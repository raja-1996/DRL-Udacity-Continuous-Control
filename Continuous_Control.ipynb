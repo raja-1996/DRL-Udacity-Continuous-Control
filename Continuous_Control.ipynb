{
 "cells": [
  {
   "cell_type": "markdown",
   "metadata": {},
   "source": [
    "# Continuous Control\n",
    "\n",
    "---\n",
    "\n",
    "You are welcome to use this coding environment to train your agent for the project.  Follow the instructions below to get started!\n",
    "\n",
    "### 1. Start the Environment\n",
    "\n",
    "Run the next code cell to install a few packages.  This line will take a few minutes to run!"
   ]
  },
  {
   "cell_type": "code",
   "execution_count": 1,
   "metadata": {},
   "outputs": [
    {
     "name": "stdout",
     "output_type": "stream",
     "text": [
      "\u001b[31mtensorflow 1.7.1 has requirement numpy>=1.13.3, but you'll have numpy 1.12.1 which is incompatible.\u001b[0m\r\n",
      "\u001b[31mipython 6.5.0 has requirement prompt-toolkit<2.0.0,>=1.0.15, but you'll have prompt-toolkit 3.0.5 which is incompatible.\u001b[0m\r\n"
     ]
    }
   ],
   "source": [
    "!pip -q install ./python"
   ]
  },
  {
   "cell_type": "markdown",
   "metadata": {},
   "source": [
    "The environments corresponding to both versions of the environment are already saved in the Workspace and can be accessed at the file paths provided below.  \n",
    "\n",
    "Please select one of the two options below for loading the environment."
   ]
  },
  {
   "cell_type": "code",
   "execution_count": 2,
   "metadata": {},
   "outputs": [
    {
     "name": "stderr",
     "output_type": "stream",
     "text": [
      "INFO:unityagents:\n",
      "'Academy' started successfully!\n",
      "Unity Academy name: Academy\n",
      "        Number of Brains: 1\n",
      "        Number of External Brains : 1\n",
      "        Lesson number : 0\n",
      "        Reset Parameters :\n",
      "\t\tgoal_speed -> 1.0\n",
      "\t\tgoal_size -> 5.0\n",
      "Unity brain name: ReacherBrain\n",
      "        Number of Visual Observations (per agent): 0\n",
      "        Vector Observation space type: continuous\n",
      "        Vector Observation space size (per agent): 33\n",
      "        Number of stacked Vector Observation: 1\n",
      "        Vector Action space type: continuous\n",
      "        Vector Action space size (per agent): 4\n",
      "        Vector Action descriptions: , , , \n"
     ]
    }
   ],
   "source": [
    "from unityagents import UnityEnvironment\n",
    "import numpy as np\n",
    "\n",
    "# select this option to load version 1 (with a single agent) of the environment\n",
    "# env = UnityEnvironment(file_name='/data/Reacher_One_Linux_NoVis/Reacher_One_Linux_NoVis.x86_64')\n",
    "\n",
    "# select this option to load version 2 (with 20 agents) of the environment\n",
    "env = UnityEnvironment(file_name='/data/Reacher_Linux_NoVis/Reacher.x86_64')"
   ]
  },
  {
   "cell_type": "markdown",
   "metadata": {},
   "source": [
    "Environments contain **_brains_** which are responsible for deciding the actions of their associated agents. Here we check for the first brain available, and set it as the default brain we will be controlling from Python."
   ]
  },
  {
   "cell_type": "code",
   "execution_count": 3,
   "metadata": {},
   "outputs": [],
   "source": [
    "# get the default brain\n",
    "brain_name = env.brain_names[0]\n",
    "brain = env.brains[brain_name]"
   ]
  },
  {
   "cell_type": "markdown",
   "metadata": {},
   "source": [
    "### 2. Examine the State and Action Spaces\n",
    "\n",
    "Run the code cell below to print some information about the environment."
   ]
  },
  {
   "cell_type": "code",
   "execution_count": 4,
   "metadata": {},
   "outputs": [
    {
     "name": "stdout",
     "output_type": "stream",
     "text": [
      "Number of agents: 20\n",
      "Size of each action: 4\n",
      "There are 20 agents. Each observes a state with length: 33\n",
      "The state for the first agent looks like: [  0.00000000e+00  -4.00000000e+00   0.00000000e+00   1.00000000e+00\n",
      "  -0.00000000e+00  -0.00000000e+00  -4.37113883e-08   0.00000000e+00\n",
      "   0.00000000e+00   0.00000000e+00   0.00000000e+00   0.00000000e+00\n",
      "   0.00000000e+00   0.00000000e+00  -1.00000000e+01   0.00000000e+00\n",
      "   1.00000000e+00  -0.00000000e+00  -0.00000000e+00  -4.37113883e-08\n",
      "   0.00000000e+00   0.00000000e+00   0.00000000e+00   0.00000000e+00\n",
      "   0.00000000e+00   0.00000000e+00   5.75471878e+00  -1.00000000e+00\n",
      "   5.55726624e+00   0.00000000e+00   1.00000000e+00   0.00000000e+00\n",
      "  -1.68164849e-01]\n"
     ]
    }
   ],
   "source": [
    "# reset the environment\n",
    "env_info = env.reset(train_mode=True)[brain_name]\n",
    "\n",
    "# number of agents\n",
    "num_agents = len(env_info.agents)\n",
    "print('Number of agents:', num_agents)\n",
    "\n",
    "# size of each action\n",
    "action_size = brain.vector_action_space_size\n",
    "print('Size of each action:', action_size)\n",
    "\n",
    "# examine the state space \n",
    "states = env_info.vector_observations\n",
    "state_size = states.shape[1]\n",
    "print('There are {} agents. Each observes a state with length: {}'.format(states.shape[0], state_size))\n",
    "print('The state for the first agent looks like:', states[0])"
   ]
  },
  {
   "cell_type": "markdown",
   "metadata": {},
   "source": [
    "### 3. Take Random Actions in the Environment\n",
    "\n",
    "In the next code cell, you will learn how to use the Python API to control the agent and receive feedback from the environment.\n",
    "\n",
    "Note that **in this coding environment, you will not be able to watch the agents while they are training**, and you should set `train_mode=True` to restart the environment."
   ]
  },
  {
   "cell_type": "code",
   "execution_count": 5,
   "metadata": {},
   "outputs": [
    {
     "name": "stdout",
     "output_type": "stream",
     "text": [
      "Total score (averaged over agents) this episode: 0.14849999668076636\n"
     ]
    }
   ],
   "source": [
    "env_info = env.reset(train_mode=True)[brain_name]      # reset the environment    \n",
    "states = env_info.vector_observations                  # get the current state (for each agent)\n",
    "scores = np.zeros(num_agents)                          # initialize the score (for each agent)\n",
    "while True:\n",
    "    actions = np.random.randn(num_agents, action_size) # select an action (for each agent)\n",
    "    actions = np.clip(actions, -1, 1)                  # all actions between -1 and 1\n",
    "    env_info = env.step(actions)[brain_name]           # send all actions to tne environment\n",
    "    next_states = env_info.vector_observations         # get next state (for each agent)\n",
    "    rewards = env_info.rewards                         # get reward (for each agent)\n",
    "    dones = env_info.local_done                        # see if episode finished\n",
    "    scores += env_info.rewards                         # update the score (for each agent)\n",
    "    states = next_states                               # roll over states to next time step\n",
    "    if np.any(dones):                                  # exit loop if episode finished\n",
    "        break\n",
    "print('Total score (averaged over agents) this episode: {}'.format(np.mean(scores)))"
   ]
  },
  {
   "cell_type": "code",
   "execution_count": 6,
   "metadata": {},
   "outputs": [],
   "source": [
    "%load_ext autoreload\n",
    "%autoreload 2"
   ]
  },
  {
   "cell_type": "code",
   "execution_count": 7,
   "metadata": {},
   "outputs": [],
   "source": [
    "\n",
    "from ddpg_agent import Agent\n",
    "from collections import deque\n",
    "import matplotlib.pyplot as plt\n",
    "import numpy as np\n",
    "import random\n",
    "import time\n",
    "import torch, pickle"
   ]
  },
  {
   "cell_type": "code",
   "execution_count": 8,
   "metadata": {},
   "outputs": [],
   "source": [
    "def ddpg(n_episodes=500, max_t=1000, print_every=1):\n",
    "    \"\"\"Deep Deterministic Policy Gradient (DDPG)\n",
    "    \n",
    "    Params\n",
    "    ======\n",
    "        n_episodes (int)      : maximum number of training episodes\n",
    "        max_t (int)           : maximum number of timesteps per episode\n",
    "        train_mode (bool)     : if 'True' set environment to training mode\n",
    "        solved_score (float)  : min avg score over consecutive episodes\n",
    "        consec_episodes (int) : number of consecutive episodes used to calculate score\n",
    "        print_every (int)     : interval to display results\n",
    "        actor_path (str)      : directory to store actor network weights\n",
    "        critic_path (str)     : directory to store critic network weights\n",
    "\n",
    "    \"\"\"\n",
    "    \n",
    "    scores_window = deque(maxlen=100)  # mean scores from most recent episodes\n",
    "    scores_episodes = []                               # list of moving averages\n",
    "    \n",
    "    for i_episode in range(1, n_episodes+1):\n",
    "        env_info = env.reset(train_mode=True)[brain_name] # reset environment\n",
    "        states = env_info.vector_observations                   # get current state for each agent      \n",
    "        scores = np.zeros(num_agents)                           # initialize score for each agent\n",
    "        agent.reset()\n",
    "        start_time = time.time()\n",
    "        for t in range(max_t):\n",
    "            \n",
    "            print('\\rEpisode {} TimeStep {}'.format(i_episode, t), end=\"\")\n",
    "            actions = agent.act(states, add_noise=True)         # select an action\n",
    "            env_info = env.step(actions)[brain_name]            # send actions to environment\n",
    "            next_states = env_info.vector_observations          # get next state\n",
    "            rewards = env_info.rewards                          # get reward\n",
    "            dones = env_info.local_done                         # see if episode has finished\n",
    "            # save experience to replay buffer, perform learning step at defined interval\n",
    "            for state, action, reward, next_state, done in zip(states, actions, rewards, next_states, dones):\n",
    "                agent.step(state, action, reward, next_state, done, t)             \n",
    "            states = next_states\n",
    "            scores += rewards        \n",
    "            if np.any(dones):                                   # exit loop when episode ends\n",
    "                break\n",
    "\n",
    "        diff = time.time() - start_time\n",
    "        \n",
    "        score_mean = np.mean(scores)\n",
    "        scores_window.append(score_mean)         # save mean score to window\n",
    "        scores_episodes.append(score_mean)    # save moving average\n",
    "        \n",
    "        window_mean = np.mean(scores_window)\n",
    "        if i_episode % print_every == 0:\n",
    "            print('\\rEpisode {} ({} sec) \\tScore: {:.1f}'.format(\\\n",
    "                  i_episode, round(diff), window_mean))\n",
    "        \n",
    "        torch.save(agent.actor_local.state_dict(), \"actor.pth\")\n",
    "        torch.save(agent.critic_local.state_dict(), \"critic.pth\") \n",
    "        \n",
    "        \n",
    "        if np.mean(scores_window) >= 30:\n",
    "            print('\\nEnvironment SOLVED in {} episodes!\\tScore ={:.1f}'.format(\\\n",
    "                                    i_episode, window_mean ))            \n",
    "            \n",
    "            torch.save(agent.actor_local.state_dict(), \"actor.pth\")\n",
    "            torch.save(agent.critic_local.state_dict(), \"critic.pth\")  \n",
    "            break\n",
    "            \n",
    "    return scores_window, scores_episodes"
   ]
  },
  {
   "cell_type": "code",
   "execution_count": null,
   "metadata": {},
   "outputs": [
    {
     "name": "stdout",
     "output_type": "stream",
     "text": [
      "Episode 1 (115 sec) \tScore: 0.8\n",
      "Episode 2 (118 sec) \tScore: 1.4\n",
      "Episode 3 (119 sec) \tScore: 1.7\n",
      "Episode 4 (119 sec) \tScore: 1.9\n",
      "Episode 5 (119 sec) \tScore: 2.2\n",
      "Episode 6 (121 sec) \tScore: 2.4\n",
      "Episode 7 (121 sec) \tScore: 2.7\n",
      "Episode 8 (122 sec) \tScore: 3.1\n",
      "Episode 9 (122 sec) \tScore: 3.4\n",
      "Episode 10 (123 sec) \tScore: 3.7\n",
      "Episode 11 (125 sec) \tScore: 4.1\n",
      "Episode 12 (126 sec) \tScore: 4.5\n",
      "Episode 13 (128 sec) \tScore: 4.8\n",
      "Episode 14 (130 sec) \tScore: 5.1\n",
      "Episode 15 (132 sec) \tScore: 5.5\n",
      "Episode 16 (134 sec) \tScore: 6.0\n",
      "Episode 17 (135 sec) \tScore: 6.4\n",
      "Episode 18 (138 sec) \tScore: 6.9\n",
      "Episode 19 (139 sec) \tScore: 7.3\n",
      "Episode 20 (142 sec) \tScore: 7.9\n",
      "Episode 21 (144 sec) \tScore: 8.3\n",
      "Episode 22 (147 sec) \tScore: 8.6\n",
      "Episode 23 (149 sec) \tScore: 8.9\n",
      "Episode 24 (151 sec) \tScore: 9.3\n",
      "Episode 25 (153 sec) \tScore: 9.7\n",
      "Episode 26 (156 sec) \tScore: 10.0\n",
      "Episode 27 (160 sec) \tScore: 10.3\n",
      "Episode 28 (162 sec) \tScore: 10.7\n",
      "Episode 29 (164 sec) \tScore: 11.0\n",
      "Episode 30 (167 sec) \tScore: 11.4\n",
      "Episode 31 (170 sec) \tScore: 11.7\n",
      "Episode 32 (172 sec) \tScore: 12.0\n",
      "Episode 33 (174 sec) \tScore: 12.3\n",
      "Episode 34 (177 sec) \tScore: 12.7\n",
      "Episode 35 (179 sec) \tScore: 13.0\n",
      "Episode 36 (182 sec) \tScore: 13.4\n",
      "Episode 37 (184 sec) \tScore: 13.7\n",
      "Episode 38 (187 sec) \tScore: 14.1\n",
      "Episode 39 (190 sec) \tScore: 14.4\n",
      "Episode 40 (192 sec) \tScore: 14.8\n",
      "Episode 41 (195 sec) \tScore: 15.2\n",
      "Episode 42 (198 sec) \tScore: 15.7\n",
      "Episode 43 (201 sec) \tScore: 16.1\n",
      "Episode 44 (203 sec) \tScore: 16.5\n",
      "Episode 45 (205 sec) \tScore: 16.9\n",
      "Episode 46 (208 sec) \tScore: 17.3\n",
      "Episode 47 (210 sec) \tScore: 17.7\n",
      "Episode 48 (212 sec) \tScore: 18.1\n",
      "Episode 49 (215 sec) \tScore: 18.5\n",
      "Episode 50 (218 sec) \tScore: 18.8\n",
      "Episode 51 (219 sec) \tScore: 19.2\n",
      "Episode 52 (219 sec) \tScore: 19.6\n",
      "Episode 53 (220 sec) \tScore: 19.9\n",
      "Episode 54 (220 sec) \tScore: 20.2\n",
      "Episode 55 (220 sec) \tScore: 20.6\n",
      "Episode 56 (220 sec) \tScore: 20.8\n",
      "Episode 57 (220 sec) \tScore: 21.2\n",
      "Episode 58 (220 sec) \tScore: 21.4\n",
      "Episode 59 (220 sec) \tScore: 21.7\n",
      "Episode 60 (220 sec) \tScore: 22.0\n",
      "Episode 61 (220 sec) \tScore: 22.3\n",
      "Episode 62 (225 sec) \tScore: 22.6\n",
      "Episode 63 (220 sec) \tScore: 22.8\n",
      "Episode 64 (220 sec) \tScore: 23.1\n",
      "Episode 65 (220 sec) \tScore: 23.3\n",
      "Episode 66 (220 sec) \tScore: 23.5\n",
      "Episode 67 (220 sec) \tScore: 23.8\n",
      "Episode 68 (220 sec) \tScore: 24.0\n",
      "Episode 69 (220 sec) \tScore: 24.2\n",
      "Episode 70 (220 sec) \tScore: 24.4\n",
      "Episode 71 (221 sec) \tScore: 24.6\n",
      "Episode 72 TimeStep 120"
     ]
    }
   ],
   "source": [
    "agent = Agent(state_size=state_size, action_size=action_size, random_seed=1)\n",
    "scores_window, scores_episodes = ddpg()"
   ]
  },
  {
   "cell_type": "code",
   "execution_count": 9,
   "metadata": {},
   "outputs": [
    {
     "name": "stdout",
     "output_type": "stream",
     "text": [
      "Episode 1 (116 sec) \tScore: 30.1\n",
      "\n",
      "Environment SOLVED in 1 episodes!\tScore =30.1\n"
     ]
    }
   ],
   "source": [
    "agent = Agent(state_size=state_size, action_size=action_size, random_seed=1)\n",
    "\n",
    "agent.actor_local.load_state_dict(torch.load('actor.pth'))\n",
    "agent.critic_local.load_state_dict(torch.load('critic.pth'))\n",
    "\n",
    "agent.actor_target.load_state_dict(torch.load('actor.pth'))\n",
    "agent.critic_target.load_state_dict(torch.load('critic.pth'))\n",
    "\n",
    "        \n",
    "scores_window, scores_episodes = ddpg()"
   ]
  },
  {
   "cell_type": "code",
   "execution_count": null,
   "metadata": {},
   "outputs": [],
   "source": []
  },
  {
   "cell_type": "code",
   "execution_count": null,
   "metadata": {},
   "outputs": [],
   "source": []
  },
  {
   "cell_type": "code",
   "execution_count": null,
   "metadata": {},
   "outputs": [],
   "source": []
  },
  {
   "cell_type": "code",
   "execution_count": null,
   "metadata": {},
   "outputs": [],
   "source": []
  },
  {
   "cell_type": "code",
   "execution_count": null,
   "metadata": {},
   "outputs": [],
   "source": []
  },
  {
   "cell_type": "code",
   "execution_count": null,
   "metadata": {},
   "outputs": [],
   "source": []
  },
  {
   "cell_type": "markdown",
   "metadata": {},
   "source": [
    "When finished, you can close the environment."
   ]
  },
  {
   "cell_type": "code",
   "execution_count": null,
   "metadata": {},
   "outputs": [],
   "source": [
    "env.close()"
   ]
  },
  {
   "cell_type": "markdown",
   "metadata": {},
   "source": [
    "### 4. It's Your Turn!\n",
    "\n",
    "Now it's your turn to train your own agent to solve the environment!  A few **important notes**:\n",
    "- When training the environment, set `train_mode=True`, so that the line for resetting the environment looks like the following:\n",
    "```python\n",
    "env_info = env.reset(train_mode=True)[brain_name]\n",
    "```\n",
    "- To structure your work, you're welcome to work directly in this Jupyter notebook, or you might like to start over with a new file!  You can see the list of files in the workspace by clicking on **_Jupyter_** in the top left corner of the notebook.\n",
    "- In this coding environment, you will not be able to watch the agents while they are training.  However, **_after training the agents_**, you can download the saved model weights to watch the agents on your own machine! "
   ]
  }
 ],
 "metadata": {
  "kernelspec": {
   "display_name": "Python 3",
   "language": "python",
   "name": "python3"
  },
  "language_info": {
   "codemirror_mode": {
    "name": "ipython",
    "version": 3
   },
   "file_extension": ".py",
   "mimetype": "text/x-python",
   "name": "python",
   "nbconvert_exporter": "python",
   "pygments_lexer": "ipython3",
   "version": "3.6.3"
  }
 },
 "nbformat": 4,
 "nbformat_minor": 2
}
